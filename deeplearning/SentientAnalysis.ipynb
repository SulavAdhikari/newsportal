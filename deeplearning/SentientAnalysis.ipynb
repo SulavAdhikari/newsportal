{
 "cells": [
  {
   "cell_type": "markdown",
   "metadata": {},
   "source": [
    "Importing necessary modules"
   ]
  },
  {
   "cell_type": "code",
   "execution_count": 6,
   "metadata": {},
   "outputs": [],
   "source": [
    "\n",
    "import numpy as np, pandas as pd, tensorflow as tf\n",
    "from sklearn.model_selection import train_test_split\n",
    "from sklearn.preprocessing import LabelEncoder\n",
    "from tensorflow.keras.preprocessing.text import Tokenizer\n",
    "from tensorflow.keras.preprocessing.sequence import pad_sequences\n",
    "from tensorflow.keras.models import Sequential\n",
    "from tensorflow.keras.layers import Embedding, LSTM, Dense, Flatten, Dropout\n",
    "from tensorflow.keras.optimizers.legacy import SGD\n",
    "import matplotlib.pyplot as plt\n",
    "import multiprocessing as mp"
   ]
  },
  {
   "cell_type": "markdown",
   "metadata": {},
   "source": [
    "Reading the data from the dataset file "
   ]
  },
  {
   "cell_type": "code",
   "execution_count": 7,
   "metadata": {},
   "outputs": [],
   "source": [
    "df = pd.read_csv('nepali_sentiment_dataset.csv', nrows=5000)\n",
    "\n",
    "# Drops all NaN from the dataframe \n",
    "df =df.dropna()\n",
    "\n",
    "# Turns every data in label to string fro better label encoding \n",
    "df['Label'] = df['Label'].apply(lambda x: x if pd.isnull(x) else str(x))\n",
    "\n",
    "emoji = False\n",
    "lang = 'N'\n",
    "\n",
    "# Encode sentiments to numerical values\n",
    "label_encoder = LabelEncoder()\n",
    "df['Label'] = label_encoder.fit_transform(df['Label'])\n"
   ]
  },
  {
   "cell_type": "markdown",
   "metadata": {},
   "source": [
    "Filtering unwanted characters"
   ]
  },
  {
   "cell_type": "code",
   "execution_count": 8,
   "metadata": {},
   "outputs": [],
   "source": [
    "import re \n",
    "\n",
    "def remove_unwanted_chars(text):\n",
    "    # Remove specific unwanted characters\n",
    "    unwanted_chars = '!@#$%^&*()\\{\\}[]\\\\_-+=0987654321\"\\'/?<>.,:;|`।~'\n",
    "    cleaned_text = ''.join(char for char in text if char not in unwanted_chars)\n",
    "    cleaned_text = re.sub('\\s+', ' ', cleaned_text).strip()  # Remove extra whitespaces\n",
    "    return cleaned_text\n",
    "\n",
    "# Apply the remove_unwanted_chars function to your dataset\n",
    "df['text'] = df['Data'].apply(remove_unwanted_chars)\n",
    "\n"
   ]
  },
  {
   "cell_type": "markdown",
   "metadata": {},
   "source": [
    "Performing Lemmatization based on the language"
   ]
  },
  {
   "cell_type": "code",
   "execution_count": 9,
   "metadata": {},
   "outputs": [
    {
     "name": "stderr",
     "output_type": "stream",
     "text": [
      "/home/cabbage/Desktop/freelance/ramesh_khadka/webimplementation/newsportal/my-env/lib/python3.11/site-packages/numpy/core/fromnumeric.py:57: FutureWarning: 'DataFrame.swapaxes' is deprecated and will be removed in a future version. Please use 'DataFrame.transpose' instead.\n",
      "  return bound(*args, **kwds)\n"
     ]
    },
    {
     "name": "stdout",
     "output_type": "stream",
     "text": [
      "Lemmatized text example:\n",
      " राम्रो छ फिल्म यत्तीको फिल्म नेपाल आउ नै ठूलो कुरा हो\n"
     ]
    }
   ],
   "source": [
    "\n",
    "from Lemmatization.lemmatizer import NepaliLemmatizer\n",
    "\n",
    "\n",
    "lem = NepaliLemmatizer()\n",
    "\n",
    "\n",
    "def lemmatize_eng(text):\n",
    "    doc = nlp(text.lower())\n",
    "    lemmatized_tokens = [token.lemma_ for token in doc]\n",
    "    lemmatized_text = ' '.join(lemmatized_tokens)\n",
    "    return lemmatized_text\n",
    "\n",
    "\n",
    "def lemmatize_nep(text):\n",
    "    results = lem.hybrid_method(text) \n",
    "    ret_val = \" \".join([result['lemma'] for result in results[0]])\n",
    "    return ret_val\n",
    "\n",
    "def parallelize_dataframe(dfa, func):\n",
    "    num_processes = mp.cpu_count()\n",
    "    df_split = np.array_split(dfa, num_processes)\n",
    "    with mp.Pool(num_processes) as p:\n",
    "        df = pd.concat(p.map(func, df_split))\n",
    "    return df\n",
    "\n",
    "def parallelize_function(df):\n",
    "    df = df['text'].apply(lemmatize_nep)\n",
    "    return df\n",
    "\n",
    "if lang == 'E':\n",
    "    df['ltext'] = parallelize_dataframe(df['text'], lemmatize_eng)\n",
    "    \n",
    "if lang == 'N':\n",
    "    df['ltext'] = parallelize_dataframe(df, parallelize_function)\n",
    "    \n",
    "\n",
    "\n",
    "print(\"Lemmatized text example:\\n\",df['ltext'][9])\n",
    "\n"
   ]
  },
  {
   "cell_type": "markdown",
   "metadata": {},
   "source": [
    "Preparing the training data"
   ]
  },
  {
   "cell_type": "code",
   "execution_count": 47,
   "metadata": {},
   "outputs": [],
   "source": [
    "import pickle\n",
    "\n",
    "pickle.dump(df['ltext'], open('words.pk1','wb'))\n",
    "pickle.dump(label_encoder, open('classes.pk1','wb'))\n"
   ]
  },
  {
   "cell_type": "code",
   "execution_count": 48,
   "metadata": {},
   "outputs": [
    {
     "name": "stdout",
     "output_type": "stream",
     "text": [
      "1840    1\n",
      "2115    0\n",
      "4437    0\n",
      "1146    2\n",
      "2486    1\n",
      "       ..\n",
      "4426    1\n",
      "466     2\n",
      "3092    2\n",
      "3772    2\n",
      "860     0\n",
      "Name: Label, Length: 3500, dtype: int64\n"
     ]
    },
    {
     "data": {
      "image/png": "[encoded data removed]",
      "text/plain": [
       "<Figure size 1000x600 with 1 Axes>"
      ]
     },
     "metadata": {},
     "output_type": "display_data"
    }
   ],
   "source": [
    "train_data, test_data, train_labels, test_labels = train_test_split(\n",
    "    df['ltext'], df['Label'], test_size=0.3, random_state=42\n",
    ")\n",
    "print(train_labels)\n",
    "\n",
    "label_counts = train_labels.value_counts()\n",
    "\n",
    "# Plotting\n",
    "plt.figure(figsize=(10, 6))\n",
    "label_counts.plot(kind='bar', color='skyblue')\n",
    "plt.title('Label Frequencies')\n",
    "plt.xlabel('Labels')\n",
    "plt.ylabel('Frequency')\n",
    "plt.show()"
   ]
  },
  {
   "cell_type": "markdown",
   "metadata": {},
   "source": [
    "Tokenization: turning words into vector"
   ]
  },
  {
   "cell_type": "code",
   "execution_count": 49,
   "metadata": {},
   "outputs": [
    {
     "data": {
      "text/plain": [
       "array([[  14,  344,  241, ...,    0,    0,    0],\n",
       "       [3940,   23,   90, ...,    0,    0,    0],\n",
       "       [   2,   33,  396, ...,    0,    0,    0],\n",
       "       ...,\n",
       "       [1911,  678,  257, ...,    0,    0,    0],\n",
       "       [8861,  160,    2, ...,    0,    0,    0],\n",
       "       [  69,    3, 1656, ...,    0,    0,    0]], dtype=int32)"
      ]
     },
     "execution_count": 49,
     "metadata": {},
     "output_type": "execute_result"
    }
   ],
   "source": [
    "tokenizer = Tokenizer(num_words=10000, oov_token='<OOV>')\n",
    "tokenizer.fit_on_texts(train_data)\n",
    "\n",
    "vocab_length = len(tokenizer.word_index) + 1\n",
    "train_sequences = tokenizer.texts_to_sequences(train_data)\n",
    "test_sequences = tokenizer.texts_to_sequences(test_data)\n",
    "\n",
    "maxlen = 1000\n",
    "\n",
    "train_padded = pad_sequences(train_sequences, maxlen=maxlen, padding='post', truncating='post')\n",
    "test_padded = pad_sequences(test_sequences, maxlen=maxlen, padding='post', truncating='post')\n",
    "\n",
    "train_padded"
   ]
  },
  {
   "cell_type": "markdown",
   "metadata": {},
   "source": [
    "Setting up sequential model"
   ]
  },
  {
   "cell_type": "code",
   "execution_count": 50,
   "metadata": {},
   "outputs": [],
   "source": [
    "embedding_size=32\n",
    "vocab_size=vocab_length\n",
    "\n",
    "\n",
    "model = Sequential()\n",
    "model.add(Embedding(input_dim=vocab_size, output_dim=50, input_length=maxlen))\n",
    "model.add(Flatten())\n",
    "#model.add(LSTM(64))\n",
    "#model.add(Dense(256, activation='relu'))\n",
    "model.add(Dense(128, activation='relu'))\n",
    "#model.add(Dropout(0.1))\n",
    "#model.add(Dense(30, activation='relu'))\n",
    "\n",
    "\n",
    "model.add(Dense(3, activation='softmax')) "
   ]
  },
  {
   "cell_type": "markdown",
   "metadata": {},
   "source": [
    "Compiling the model"
   ]
  },
  {
   "cell_type": "code",
   "execution_count": 51,
   "metadata": {},
   "outputs": [],
   "source": [
    "model.compile(loss=tf.keras.losses.SparseCategoricalCrossentropy(from_logits=True), optimizer=\"adam\", metrics=['accuracy'])\n"
   ]
  },
  {
   "cell_type": "markdown",
   "metadata": {},
   "source": [
    "Training the padded train data in the model"
   ]
  },
  {
   "cell_type": "code",
   "execution_count": 52,
   "metadata": {},
   "outputs": [
    {
     "name": "stdout",
     "output_type": "stream",
     "text": [
      "Epoch 1/7\n"
     ]
    },
    {
     "name": "stderr",
     "output_type": "stream",
     "text": [
      "/home/cabbage/Desktop/freelance/ramesh_khadka/webimplementation/newsportal/my-env/lib/python3.11/site-packages/keras/src/backend.py:5727: UserWarning: \"`sparse_categorical_crossentropy` received `from_logits=True`, but the `output` argument was produced by a Softmax activation and thus does not represent logits. Was this intended?\n",
      "  output, from_logits = _get_logits(\n"
     ]
    },
    {
     "name": "stdout",
     "output_type": "stream",
     "text": [
      "55/55 [==============================] - 2s 38ms/step - loss: 1.1536 - accuracy: 0.3869 - val_loss: 1.1261 - val_accuracy: 0.4307\n",
      "Epoch 2/7\n",
      "55/55 [==============================] - 2s 37ms/step - loss: 1.0711 - accuracy: 0.4317 - val_loss: 1.0478 - val_accuracy: 0.4767\n",
      "Epoch 3/7\n",
      "55/55 [==============================] - 2s 36ms/step - loss: 0.9683 - accuracy: 0.5726 - val_loss: 0.9773 - val_accuracy: 0.5380\n",
      "Epoch 4/7\n",
      "55/55 [==============================] - 2s 37ms/step - loss: 0.7260 - accuracy: 0.7020 - val_loss: 0.8982 - val_accuracy: 0.5607\n",
      "Epoch 5/7\n",
      "55/55 [==============================] - 2s 36ms/step - loss: 0.4863 - accuracy: 0.8440 - val_loss: 0.8706 - val_accuracy: 0.6207\n",
      "Epoch 6/7\n",
      "55/55 [==============================] - 2s 37ms/step - loss: 0.3064 - accuracy: 0.9294 - val_loss: 0.8753 - val_accuracy: 0.6307\n",
      "Epoch 7/7\n",
      "55/55 [==============================] - 2s 36ms/step - loss: 0.1907 - accuracy: 0.9603 - val_loss: 0.9103 - val_accuracy: 0.6287\n"
     ]
    }
   ],
   "source": [
    "batch_size = 64\n",
    "num_epochs = 7\n",
    "\n",
    "hist = model.fit(train_padded, train_labels, validation_data=(test_padded, test_labels), batch_size=batch_size, epochs=num_epochs, verbose=1)"
   ]
  },
  {
   "cell_type": "markdown",
   "metadata": {},
   "source": [
    "Saving Model"
   ]
  },
  {
   "cell_type": "code",
   "execution_count": 53,
   "metadata": {},
   "outputs": [
    {
     "name": "stderr",
     "output_type": "stream",
     "text": [
      "/home/cabbage/Desktop/freelance/ramesh_khadka/webimplementation/newsportal/my-env/lib/python3.11/site-packages/keras/src/engine/training.py:3103: UserWarning: You are saving your model as an HDF5 file via `model.save()`. This file format is considered legacy. We recommend using instead the native Keras format, e.g. `model.save('my_model.keras')`.\n",
      "  saving_api.save_model(\n"
     ]
    }
   ],
   "source": [
    "model.save('sentimentmodel.h5',hist)"
   ]
  },
  {
   "cell_type": "markdown",
   "metadata": {},
   "source": [
    "Plotting the training data"
   ]
  },
  {
   "cell_type": "code",
   "execution_count": 54,
   "metadata": {},
   "outputs": [
    {
     "data": {
      "text/plain": [
       "<Figure size 1200x600 with 0 Axes>"
      ]
     },
     "execution_count": 54,
     "metadata": {},
     "output_type": "execute_result"
    },
    {
     "data": {
      "text/plain": [
       "<Figure size 1200x600 with 0 Axes>"
      ]
     },
     "metadata": {},
     "output_type": "display_data"
    }
   ],
   "source": [
    "plt.figure(figsize=(12, 6))"
   ]
  },
  {
   "cell_type": "markdown",
   "metadata": {},
   "source": [
    "Loss and Accuracy analysis"
   ]
  },
  {
   "cell_type": "code",
   "execution_count": 55,
   "metadata": {},
   "outputs": [
    {
     "data": {
      "text/plain": [
       "<matplotlib.legend.Legend at 0x7feedb95ee10>"
      ]
     },
     "execution_count": 55,
     "metadata": {},
     "output_type": "execute_result"
    },
    {
     "data": {
      "image/png": "[encoded data removed]",
      "text/plain": [
       "<Figure size 640x480 with 1 Axes>"
      ]
     },
     "metadata": {},
     "output_type": "display_data"
    }
   ],
   "source": [
    "plt.subplot(1, 2, 1)\n",
    "plt.plot(hist.history['accuracy'])\n",
    "plt.plot(hist.history['val_accuracy'])\n",
    "plt.title('Model Accuracy')\n",
    "plt.xlabel('Epoch')\n",
    "plt.ylabel('Accuracy')\n",
    "plt.legend(['Train', 'Validation'], loc='upper left')"
   ]
  },
  {
   "cell_type": "markdown",
   "metadata": {},
   "source": []
  },
  {
   "cell_type": "code",
   "execution_count": 56,
   "metadata": {},
   "outputs": [
    {
     "name": "stdout",
     "output_type": "stream",
     "text": [
      "47/47 [==============================] - 0s 3ms/step - loss: 0.9103 - accuracy: 0.6287\n",
      "Accuracy: 62.87%\n"
     ]
    }
   ],
   "source": [
    "loss, accuracy = model.evaluate(test_padded, test_labels)\n",
    "print(f'Accuracy: {accuracy * 100:.2f}%')\n"
   ]
  },
  {
   "cell_type": "markdown",
   "metadata": {},
   "source": [
    "Testing the model with padded test data"
   ]
  },
  {
   "cell_type": "code",
   "execution_count": 57,
   "metadata": {},
   "outputs": [
    {
     "name": "stdout",
     "output_type": "stream",
     "text": [
      "47/47 [==============================] - 0s 3ms/step\n",
      "Text: मुटु चाह हो आफु त सर्प भनेपछी बाट धुवाँ निस्किन्छ\n",
      "Actual Label: 0\n",
      "Predicted Label: -1\n",
      "\n",
      "\n",
      "Text: विश्व स्वास्थ्य संगठन डब्लुएचओ ले बिहीबार फाइजर बायोएनटेकले विकास गर् कोभिड विरुद्ध खोप आपतकालीन प्रयोग लागि अनुमति दि छ\n",
      "Actual Label: 1\n",
      "Predicted Label: 1\n",
      "\n",
      "\n",
      "Text: संस्कृति पर्यटन तथा नागरिक उड्डयन मन्त्री भानुभक्त ढकाल कोभिड बाट मानव जीवन रक्षा गर् दायित्व निर्वाह गर् विकास निर्माण लगायत कामहरु ओझेल पर् स्वीकार गर् छन्\n",
      "Actual Label: 0\n",
      "Predicted Label: 1\n",
      "\n",
      "\n",
      "Text: आफ्नै सुरक्षा लागित हो\n",
      "Actual Label: 1\n",
      "Predicted Label: 1\n",
      "\n",
      "\n",
      "Text: जरिवाना तोक्\n",
      "Actual Label: 1\n",
      "Predicted Label: -1\n",
      "\n",
      "\n"
     ]
    }
   ],
   "source": [
    "predictions = model.predict(test_padded)\n",
    "\n",
    "predicted_labels = [label_encoder.classes_[i] for i in predictions.argmax(axis=1)]\n",
    "\n",
    "# Display some examples\n",
    "for i in range(5):\n",
    "    print(f'Text: {test_data.iloc[i]}')\n",
    "    print(f'Actual Label: {label_encoder.classes_[test_labels.iloc[i]]}')\n",
    "    print(f'Predicted Label: {predicted_labels[i]}')\n",
    "    print('\\n')\n",
    "\n",
    "\n"
   ]
  },
  {
   "cell_type": "markdown",
   "metadata": {},
   "source": [
    "Manual Testing"
   ]
  },
  {
   "cell_type": "code",
   "execution_count": 58,
   "metadata": {},
   "outputs": [
    {
     "name": "stdout",
     "output_type": "stream",
     "text": [
      "1/1 [==============================] - 0s 11ms/step\n",
      "['-1']\n"
     ]
    }
   ],
   "source": [
    "def predict_text(model, text, tokenizer):\n",
    "   \n",
    "\n",
    "    if lang == 'N':\n",
    "        lemmatized_text = lemmatize_nep(text)\n",
    "    elif lang == 'E':\n",
    "        lemmatized_text = lemmatize_eng(text)\n",
    "\n",
    "    text_sequence = tokenizer.texts_to_sequences([lemmatized_text])\n",
    "    padded_sequence = pad_sequences(text_sequence, maxlen=maxlen, padding='post', truncating='post')\n",
    "    # Make prediction\n",
    "    prediction = model.predict(padded_sequence)\n",
    "\n",
    "    # Convert prediction to class label\n",
    "    a = prediction.argmax(axis=1)\n",
    "    predicted_label = label_encoder.classes_[a] \n",
    "    \n",
    "\n",
    "    return predicted_label\n",
    "\n",
    "output = predict_text(model=model, text=\"रेनो अटोमोटिभले ल्यायो नयाँ अकार्षक गाडी, ‘लजी स्टेपवे रेन्ज’ अनाबरण\", tokenizer=tokenizer)\n",
    "\n",
    "print(output)"
   ]
  }
 ],
 "metadata": {
  "kernelspec": {
   "display_name": "env",
   "language": "python",
   "name": "python3"
  },
  "language_info": {
   "codemirror_mode": {
    "name": "ipython",
    "version": 3
   },
   "file_extension": ".py",
   "mimetype": "text/x-python",
   "name": "python",
   "nbconvert_exporter": "python",
   "pygments_lexer": "ipython3",
   "version": "3.11.4"
  }
 },
 "nbformat": 4,
 "nbformat_minor": 2
}
